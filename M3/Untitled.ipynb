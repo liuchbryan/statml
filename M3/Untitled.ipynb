{
 "cells": [
  {
   "cell_type": "code",
   "execution_count": 6,
   "metadata": {},
   "outputs": [],
   "source": [
    "import numpy as np"
   ]
  },
  {
   "cell_type": "code",
   "execution_count": 7,
   "metadata": {},
   "outputs": [],
   "source": [
    "# Parameters\n",
    "dim_n = 10\n",
    "dim_p = 20\n",
    "\n",
    "sigma_sq = 1**2"
   ]
  },
  {
   "cell_type": "code",
   "execution_count": 8,
   "metadata": {},
   "outputs": [
    {
     "data": {
      "text/plain": [
       "array([-7.42046077, -1.67366922,  4.17559595,  1.33907247,  3.98078213,\n",
       "       -3.17634563, -1.30762014, -4.50943662,  4.32922817, -6.33410021])"
      ]
     },
     "execution_count": 8,
     "metadata": {},
     "output_type": "execute_result"
    }
   ],
   "source": [
    "X = np.random.normal(0, 1, (dim_n, dim_p))\n",
    "beta = np.ones(dim_p)\n",
    "Y = np.zeros(dim_n)\n",
    "\n",
    "np.matmul(X, beta, out=Y) + np.random.normal(0, np.sqrt(sigma_sq), dim_n)\n",
    "\n",
    "Y"
   ]
  },
  {
   "cell_type": "code",
   "execution_count": 24,
   "metadata": {},
   "outputs": [],
   "source": [
    "# See http://statweb.stanford.edu/~tibs/ftp/lars.pdf, page 7\n",
    "# Step 2: Let mathcal A be the active set indexing the covariances in c that are maximal in absolute value\n",
    "def get_mathcal_A_step2(c):\n",
    "    max_covariate = np.max(np.abs(c))\n",
    "    return list(np.argwhere(np.abs(c) == max_covariate).flatten())\n",
    "\n",
    "# Step 2: Let B be the set indexing the non-zero coefficients of beta\n",
    "def get_mathcal_B_step2(beta):\n",
    "    return list(np.argwhere(beta != 0).flatten())\n",
    "\n",
    "# Let sA be the vector containing the signs of those covariances\n",
    "def get_s_mathcal_A(c, mathcal_A):\n",
    "    return np.sign(c[mathcal_A])\n",
    "\n",
    "# write SA for the diagonal matrix whose diagonal is given by sA\n",
    "def get_S_mathcal_A(c, mathcal_A):\n",
    "    return np.diag(get_s_mathcal_A(c, mathcal_A))\n",
    "\n",
    "def get_X_(X, mathcal):\n",
    "    return X[:, mathcal]\n",
    "\n",
    "def get_SAXATX(X, c, mathcal_A):\n",
    "    SA = get_S_mathcal_A(c, mathcal_A)\n",
    "    XAT = get_X_(X, mathcal_A).T\n",
    "    \n",
    "    return np.matmul(np.matmul(SA, XAT), X)"
   ]
  },
  {
   "cell_type": "code",
   "execution_count": 26,
   "metadata": {},
   "outputs": [
    {
     "name": "stdout",
     "output_type": "stream",
     "text": [
      "[[ -3.89504823  -0.69786547   2.8982338   -3.65116458   0.09432644\n",
      "   -6.4526732   -4.632906     1.9235436    4.75676615  -1.24327949\n",
      "    4.71260704  -3.93023496  -5.74617499   0.32240216  -3.81351916\n",
      "  -17.85856486   1.63540874  -5.03631047  -2.58183157  -3.89854758\n",
      "    3.89504823   0.69786547  -2.8982338    3.65116458  -0.09432644\n",
      "    6.4526732    4.632906    -1.9235436   -4.75676615   1.24327949\n",
      "   -4.71260704   3.93023496   5.74617499  -0.32240216   3.81351916\n",
      "   17.85856486  -1.63540874   5.03631047   2.58183157   3.89854758\n",
      "    1.        ]]\n",
      "[15] [3] [[1.]]\n"
     ]
    }
   ],
   "source": [
    "# DASSO algorithm\n",
    "\n",
    "dim_n = X.shape[0]\n",
    "dim_p = beta.shape[0]\n",
    "\n",
    "# Step 1\n",
    "beta = np.zeros(dim_p)\n",
    "beta[3] = 1\n",
    "l = 1\n",
    "c = np.zeros(dim_p)\n",
    "\n",
    "# while True:\n",
    "\n",
    "# Step 2\n",
    "mathcal_B = get_mathcal_B_step2(beta)\n",
    "\n",
    "np.matmul(X.T, (Y - np.matmul(X, beta)), out=c)\n",
    "mathcal_A = get_mathcal_A_step2(c)\n",
    "\n",
    "sA = get_s_mathcal_A(c, mathcal_A)\n",
    "\n",
    "# assert len(mathcal_A) == (len(mathcal_B) + 1)\n",
    "\n",
    "# Step 3\n",
    "if (len(mathcal_B) == 0):\n",
    "    mathcal_B.append(get_mathcal_A_step2(c)[0])\n",
    "else:\n",
    "    # Appendix 1, step 1\n",
    "    A = -1 * get_SAXATX(X, c, mathcal_A)\n",
    "    A = np.append(A, get_SAXATX(X, c, mathcal_A), axis=1)\n",
    "    A = np.append(A, np.identity(len(mathcal_A)), axis=1)\n",
    "    \n",
    "    # Appendix 1, step 2\n",
    "    \n",
    "\n",
    "\n",
    "# Step 4\n",
    "\n",
    "A = -1 * get_SAXATX(X, c, mathcal_A)\n",
    "A = np.append(A, get_SAXATX(X, c, mathcal_A), axis=1)\n",
    "A = np.append(A, np.identity(len(mathcal_A)), axis=1)\n",
    "print(A)\n",
    "\n",
    "print(mathcal_A, mathcal_B, get_S_mathcal_A(c, mathcal_A))\n",
    "    \n",
    "    # Step 5\n",
    "#     if np.linalg.norm(c, ord=np.inf) == 0:\n",
    "#         break"
   ]
  },
  {
   "cell_type": "code",
   "execution_count": 31,
   "metadata": {},
   "outputs": [
    {
     "data": {
      "text/plain": [
       "array([0., 0., 0., 1., 0., 0., 0., 0., 0., 0., 0., 0., 0., 0., 0., 0., 0.,\n",
       "       0., 0., 0.])"
      ]
     },
     "execution_count": 31,
     "metadata": {},
     "output_type": "execute_result"
    }
   ],
   "source": [
    "np.maximum(beta, 0)"
   ]
  },
  {
   "cell_type": "code",
   "execution_count": 98,
   "metadata": {},
   "outputs": [
    {
     "data": {
      "text/plain": [
       "array([13.62456136, 21.81697491,  3.44344192,  2.47055399, 23.9931803 ,\n",
       "        1.56838271, 13.40552802,  8.8610178 ,  0.41188566,  4.56459017,\n",
       "        0.75183328,  9.19599532,  6.66784077,  6.95675744,  3.64021054,\n",
       "        5.7824355 ,  4.3870639 ,  0.31045025,  2.94397741, 21.89915234])"
      ]
     },
     "execution_count": 98,
     "metadata": {},
     "output_type": "execute_result"
    }
   ],
   "source": [
    "np.abs(c)"
   ]
  },
  {
   "cell_type": "code",
   "execution_count": null,
   "metadata": {},
   "outputs": [],
   "source": []
  }
 ],
 "metadata": {
  "kernelspec": {
   "display_name": "Python 3",
   "language": "python",
   "name": "python3"
  },
  "language_info": {
   "codemirror_mode": {
    "name": "ipython",
    "version": 3
   },
   "file_extension": ".py",
   "mimetype": "text/x-python",
   "name": "python",
   "nbconvert_exporter": "python",
   "pygments_lexer": "ipython3",
   "version": "3.7.3"
  }
 },
 "nbformat": 4,
 "nbformat_minor": 4
}
